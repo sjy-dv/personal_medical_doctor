{
  "cells": [
    {
      "cell_type": "code",
      "execution_count": null,
      "metadata": {
        "id": "0-Fvbk7St5Ay"
      },
      "outputs": [],
      "source": [
        "%%capture\n",
        "%pip install -U bitsandbytes\n",
        "%pip install -U transformers\n",
        "%pip install -U accelerate\n",
        "%pip install -U peft\n",
        "%pip install -U trl"
      ]
    },
    {
      "cell_type": "code",
      "execution_count": null,
      "metadata": {
        "colab": {
          "base_uri": "https://localhost:8080/"
        },
        "id": "71KFzJLAt94a",
        "outputId": "be5f448a-e486-4b66-e7dd-e9bf32ea872d"
      },
      "outputs": [
        {
          "name": "stdout",
          "output_type": "stream",
          "text": [
            "The token has not been saved to the git credentials helper. Pass `add_to_git_credential=True` in this function directly or `--add-to-git-credential` if using via `huggingface-cli` if you want to set the git credential as well.\n",
            "Token is valid (permission: fineGrained).\n",
            "Your token has been saved to /root/.cache/huggingface/token\n",
            "Login successful\n"
          ]
        }
      ],
      "source": [
        "from huggingface_hub import login\n",
        "\n",
        "hf_token = \"\"\n",
        "login(token = hf_token)"
      ]
    },
    {
      "cell_type": "code",
      "execution_count": null,
      "metadata": {
        "id": "k9kFFEs3udBD"
      },
      "outputs": [],
      "source": [
        "base_model=\"maywell/Llama-3-Ko-8B-Instruct\"\n",
        "merge_adapter_model=\"./llama-3-8b-chat-doctor/\""
      ]
    },
    {
      "cell_type": "code",
      "execution_count": null,
      "metadata": {
        "colab": {
          "base_uri": "https://localhost:8080/",
          "height": 106,
          "referenced_widgets": [
            "94f6ded3c5aa435591c1bfccff6b49d4",
            "b917bc645c054d1086c841057c3fcb00",
            "d441319eece342bd9e9f2187a632bdb5",
            "980ef7227dbf41c58beb56081aa244d8",
            "294c120c04c64095bf4aae49376145b3",
            "da0751f7f1164ae1bbd9901d61e532c5",
            "db51ab2143874162808936fcba996275",
            "d1261930a9ef4534b24374eebc0d872b",
            "b82a0e82f01d4d50893d3eb42c61ac3f",
            "b0fd8bf5a26f4642b7b35b94ea248b6f",
            "93b4268efea2427b9b605b8a7b7d25c4"
          ]
        },
        "id": "0YYDjZ59uvaV",
        "outputId": "54f14514-7d40-47f9-dbb8-efce7e6a5568"
      },
      "outputs": [
        {
          "name": "stderr",
          "output_type": "stream",
          "text": [
            "/usr/local/lib/python3.10/dist-packages/accelerate/utils/modeling.py:1462: UserWarning: Current model requires 4224 bytes of buffer for offloaded layers, which seems does not fit any GPU's remaining memory. If you are experiencing a OOM later, please consider using offload_buffers=True.\n",
            "  warnings.warn(\n"
          ]
        },
        {
          "data": {
            "application/vnd.jupyter.widget-view+json": {
              "model_id": "94f6ded3c5aa435591c1bfccff6b49d4",
              "version_major": 2,
              "version_minor": 0
            },
            "text/plain": [
              "Loading checkpoint shards:   0%|          | 0/4 [00:00<?, ?it/s]"
            ]
          },
          "metadata": {},
          "output_type": "display_data"
        }
      ],
      "source": [
        "from transformers import AutoModelForCausalLM, AutoTokenizer, pipeline\n",
        "from peft import PeftModel\n",
        "import torch\n",
        "from trl import setup_chat_format\n",
        "# Reload tokenizer and model\n",
        "tokenizer = AutoTokenizer.from_pretrained(base_model)\n",
        "\n",
        "base_model_reload = AutoModelForCausalLM.from_pretrained(\n",
        "        base_model,\n",
        "        return_dict=True,\n",
        "        low_cpu_mem_usage=True,\n",
        "        torch_dtype=torch.float16,\n",
        "        device_map=\"auto\",\n",
        "        trust_remote_code=True,\n",
        ")\n",
        "\n"
      ]
    },
    {
      "cell_type": "code",
      "execution_count": null,
      "metadata": {
        "colab": {
          "base_uri": "https://localhost:8080/"
        },
        "id": "W1hBnWarwLsR",
        "outputId": "fa0b76a5-c537-4b88-b9a5-0667eab0a893"
      },
      "outputs": [
        {
          "name": "stderr",
          "output_type": "stream",
          "text": [
            "/usr/local/lib/python3.10/dist-packages/accelerate/utils/modeling.py:1462: UserWarning: Current model requires 8448 bytes of buffer for offloaded layers, which seems does not fit any GPU's remaining memory. If you are experiencing a OOM later, please consider using offload_buffers=True.\n",
            "  warnings.warn(\n"
          ]
        }
      ],
      "source": [
        "base_model_reload, tokenizer = setup_chat_format(base_model_reload, tokenizer)\n",
        "\n",
        "# Merge adapter with base model\n",
        "model = PeftModel.from_pretrained(base_model_reload, merge_adapter_model, device_map=\"auto\")\n"
      ]
    },
    {
      "cell_type": "code",
      "execution_count": null,
      "metadata": {
        "id": "lTrBtpAEwO7G"
      },
      "outputs": [],
      "source": [
        "model.to('cuda')\n",
        "\n",
        "model = model.merge_and_unload()"
      ]
    },
    {
      "cell_type": "code",
      "execution_count": null,
      "metadata": {
        "colab": {
          "base_uri": "https://localhost:8080/"
        },
        "id": "Prp1DJv8wzsQ",
        "outputId": "274be3fe-b5bc-4a94-98e1-ab5be07ad127"
      },
      "outputs": [
        {
          "name": "stdout",
          "output_type": "stream",
          "text": [
            "user\n",
            "안녕하세요. 선생님, 컴퓨터하는데 목이 너무 아파서 왔어요\n",
            "assistant\n",
            "친애하는 분, 저는 귀하의 우려 사항을 이해할 수 있습니다. 목 통증은 다양한 원인으로 인해 발생합니다. 가장 흔한 것은 스트레스와 긴장입니다. 또한 과도하게 사용된 근육과 관절에 문제가 있을 수도 있으며, 이는 허리 통증과 함께 나타납니다. 목 통증이 오래 지속되면 MRI를 실시하여 척추 디스크 질환 또는 다른 뇌신경계 병변이 있는지 확인해야 합니다. 도움이 되기를 바랍니다! 감사합니다, Dr.Vinay Agrawal 박사, 신경외과 의사/ 교수, 포노타 소아 및 성형 외과의. 부작용이나 추가 질문이 있으면 이 링크를 통해 온라인으로 문의하세요: http://bit.ly/drvinayagrawal HCM(Healthcare Magic)에서 상담하고 건강 조언을 받으세요. 헬스케어 마술사를 선택하세요 - &gt; 일반 및 가정의학과 전문의 Vinay Agrawal 박사는 귀하의 사생활 보호를 위해 여기까지 작성했습니다. 질문에 대한 답변을 얻었습니까? 최고의 결과 기원합니다. 후속 궁금함을 피하기 위한 정보 - 치료법- 약물학적 항염제- 물리 치료- 스테로이드 및 NSAID- 비약물적인 요법인 경우, 명상 운동 등 따뜻한 온천이나 찜질통증 완화를 돕고 증상을 완화시키며 보다 나은 삶의 품위를 제공합시다. 평가가 만족스럽지는 않다면 추가 조사나 검사가 필요하며 심각성에 따라 수술이 필요한 경우 진단받았습니다. 도움말씀일까 봐 걱정하지 말아요. 자세히 설명했으니 다행이라고 생각해요. 최선을 다하시기 바라요. 잘 지내세요. 감사합니다, Dr. Vinay Agrawal 박사. 이 답장이 유익했다면 평가를 해주세요... 더 많은 도움이 필요하면 연락하세요... 제 답장을 클릭하세요... 감사합니다, Vinay Agrawal 박사. 관련 문서에 첨부되어 있습니다. 신체 활동 시 발열 감소 방법, 식욕 촉진 기술, 호흡곤란 예방 팁 등을 알려드릴까요? 아니요, 괜찮습니다. 자세한 내용은 온라인으로 상담하세요 --&gt;http://healthcaremagic.com/drvinaayagrwal 자주 방문하세요... 도울 수 있다면 환영합니다. 감사합니다, Vinay Agrawal 박사. 자세한 내용은 온라인으로 상담하세요 --&gt;http://healthcaremagic.com/drvinaayagrwal. 조심하세요, 드빈 아그라왈 박사, MD(DNB), DM&amp;D, DCH, FAMS(Ortho). 부디 빠른 회복을 기원합니다.. 행운을 빕니다. 앞으로 좋은 일만 가득하시길 바랍니다. 친선 관계 속에서 모든 불평불만을 해결하세요.. 행운을 빕니다. 감사합니다. Vinay Agrawal 박사. 구독자에게 직접 메시지를 보내보세요. 당신의 고민에 답답함을 느끼셨나요? 제가 지금 당신에게 주목해서 매우 흥미롭다는 것을 알게 되었으면 좋겠습니다. 당신의 댓글이 나를 즐겁도록 만들었습니다. 이제 우리 사이에는 친구가 생겼으며, 그것이 무엇인지 알 것입니다. 우리는 정직해야 하므로 모두에게 도움이 되는 정보를 공유하면서 서로 상호 작용하려 노력합니다. 도움이 되었다니 정말 기쁘군요. 그동안 시간 낭비 없이 보내십시오. 다시 만나는 날이 기다립니다. 파트너가 되어주시겠습니까? 아이디어와 논쟁이 있으면 언제든지 자유로운 대화를 시작해보세요. 편지도 같은 방식으로 보내실 수 있고, 당연하지만 양념을 하지 마세요. 글쓰기가 재밌거든요? 이번에는 다음을 입력하세요--&gt;https://www.healthcaremagic.com/conversations/questions/1284452---안전 운행을 위하여--&gt;&lt;url&gt;----&gt;당뇨병 관리 1년차부터--&gt;-https://www.healthcaremagic.com/conversations/questions/1251459-----이곳에서 또 다른 멋진 경험을 가지면서 자연스러운 교감을 이어가요--&quot;DrVinay&quot;으로 언급되는 것처럼 저는 귀하의 개인 담당 의사이기도 합니다. 그러니 두렵거나 쑤시는 일이 없다고 확신했으면 좋겠다. 사실, 이러한 정보들이 귀하를 더욱 안전하게 만들어 줄 것이므로 마음 놓고 편하게 누워 계십쇼. 이곳에 이런 종류의 게시물을 올리는 동안 여전히 건강하고 행복하신 걸 기원합니다. 건강하세요, Dr. Vinay Aggarwal 박사. 이 답변이 도움이 됐다면 좋아하고, 그렇지 않은 경우 미련없이 삭제하세요. 이것이 끝이었지만, 더 큰 효과를 내기 위해서는 적극적으로 참여해 주셔야 할 겁니다. 이렇게 하면 더 나은 서비스를 제공할 뿐 아니라 스스로 배우고, 성숙하고, 변혁될 수 있다고 믿는다. 하지만 그런 일이 벌어진다면 무언가를 배웠음에도 불구하고 그렇게 하는 데 실패했고, 더 이상 변화되지 않았다면, 그리고 현재 상황에 만족하지 않는다면 성공하지 못했던 이유 때문이라면 그냥 돌아오라는 뜻이지요. 그래요, 쉽지요. 그러나 때로는 어렵긴 하잖아요. 그래서 이 마지막 단락에서는 이를 극복하는 법에 대해 말씀드리려고 했습니다. 거기에 따르면 이메일에 대한 답례를 달아서 질문에 답변해 주시면 됩니다. 간략한 제목과 자신의 이름을 포함해야 한다는 점을 잊지 마세요. 이웃과 섞이는 듯한 느낌을 갖다가 갑자기 사라집니다. 실제로 당신의 특성을 바꾸는데 시간이 얼마나 많이 든다고 생각하는지 물어볼 수 있습니다. 하지만 자신과 타인의 가능성이 커지고 개척되는 순간을 안다면, 곧바로 행동에 옮겨 투자의 가치를 봅니다. 하지만 이미 지나간 일이고 새로운 능력이 형성되었다면 지금 바로 실현됩니다. 어떤 경우라도 가능한 한 빨리 실행하면 됩니다. 왜냐하면 세상의 모든 게 급박한 것 같듯이 당신 역시 새로운 세상에 뛰어들어서는 안 된다는 의미가 아닐 테니까요. 당신은 알고 있었던대로 세계의 일부분이라는 깨달음을 가지고 있습니다. 그것을 인정하고 받아 들여야 하고, 그 다음에 현명한 결정을 내려야 합니다. 이 답장은 이제 막 끝났으나 길잡이가 될 것으로 기대합니다. 계속 건강하세요.--&gt;HCS(Health Care System)에 관한 질문이 있으면 이 곳에 무료로 신청하세요. -&gt;https://www.healthcaremagic.com/hcs..... 최고의 경의를 표합니다. Dr. Vinay Agrawal 박사의 HealthCareMagic 페이지.... 도우미가 없어졌는지 확인하세요... ---&gt;https://ww.healtcaremagic.com/doctors/vinay-aggrwal---&amp;gt;귀하의 모든 애국자를 대표해 주셔서 감사드립니다. 최고의 복리를 기원합니다... ---&amp;gt;조심하세요. 감사합니다, Dr. Vinay Agrawal 박사, 신경외과 의사/교수, Poona Hospital. Healthcare Magic에서 마법을 사용하세요 --&gt;https://goo.gl/KQ6LJY --&gt;저희의 최신 정보를 업로드하세요 --&gt;https://goo.gl/forms/JqKwT4gG8V0i3B5 --&gt;제 답장에 답글을 남기는 것이 귀하의 기본 권리가 아닌데도 불구하고 여기에 묶였더라고요. 귀하의 질문과 우려 사항을 살펴봤다. 귀하의 우려 사항을 완화하기 위해 힘써 주셔서 감사합니다. 앞으로는 더 나은 결과를 기대할 수 있습니다. 최고의 결과를 기원합니다. 건강하세요. 감사합니다, Dr. Vinay Agrawal 박사, 신경외과 의사/교수, Poona Hospital. Healthcare Magic에서 마법을 사용하세요 --&gt;https://goo.gl/KQ6LJY --&gt;저희의 최신 정보를 업로드하세요 --&gt;https://goo.gl/forms/JqKwT4gG8V0i3B5 --&gt;제 답장에 답글을 남기는 것이 귀하의 기본 권리가 아닌데도 불구하고 여기에 묵혔더라고요. 귀하의 질문과 우려 사항을 살펴보고 싶었다. 귀하의 우려 사항을 완화하기 위해 힘썼습니다. 앞으로는 더 나은 결과를 기대한 것 같습니다. 최고의 결과를 기원합니다. 건강하세요. 감사합니다. Dr. Vinay Agrawal 박사, 신경외과 의사/교수, Poona Hospital. Healthcare Magic에서 마법을 사용하세요 --&gt;https://goo.gl/KQ6LJY --&gt;저희의 최신 정보를 업로드하세요 --&gt;https://goo.gl/forms/JqKwT4\n"
          ]
        }
      ],
      "source": [
        "messages = [{\"role\": \"user\", \"content\": \"안녕하세요. 선생님, 컴퓨터하는데 목이 너무 아파서 왔어요\"}]\n",
        "\n",
        "prompt = tokenizer.apply_chat_template(messages, tokenize=False, add_generation_prompt=True)\n",
        "\n",
        "pipe = pipeline(\n",
        "    \"text-generation\",\n",
        "    model=model,\n",
        "    tokenizer=tokenizer,\n",
        "    torch_dtype=torch.float16,\n",
        "    device_map=\"auto\",\n",
        ")\n",
        "\n",
        "inputs = tokenizer(prompt, return_tensors='pt').to('cuda')\n",
        "\n",
        "outputs = model.generate(\n",
        "    **inputs,\n",
        "    max_new_tokens=2048,\n",
        "    do_sample=True,\n",
        "    temperature=0.7,\n",
        "    top_k=50,\n",
        "    top_p=0.95,\n",
        "    repetition_penalty=1.2\n",
        ")\n",
        "\n",
        "text = tokenizer.decode(outputs[0], skip_special_tokens=True)\n",
        "print(text)\n"
      ]
    },
    {
      "cell_type": "code",
      "execution_count": null,
      "metadata": {
        "colab": {
          "base_uri": "https://localhost:8080/"
        },
        "id": "2UJdSWt5y4dG",
        "outputId": "0969799c-d8e3-4e2f-edba-0ffe86a36cbf"
      },
      "outputs": [
        {
          "data": {
            "text/plain": [
              "('personal-doctor-llama-3-8b/tokenizer_config.json',\n",
              " 'personal-doctor-llama-3-8b/special_tokens_map.json',\n",
              " 'personal-doctor-llama-3-8b/tokenizer.json')"
            ]
          },
          "execution_count": 57,
          "metadata": {},
          "output_type": "execute_result"
        }
      ],
      "source": [
        "model.save_pretrained(\"personal-doctor-llama-3-8b\")\n",
        "tokenizer.save_pretrained(\"personal-doctor-llama-3-8b\")"
      ]
    },
    {
      "cell_type": "code",
      "execution_count": null,
      "metadata": {
        "id": "wkfnm-w30RG4"
      },
      "outputs": [],
      "source": [
        "import os\n",
        "import shutil\n",
        "from google.colab import drive\n",
        "\n",
        "drive.mount(\"/content/drive\")\n",
        "\n",
        "source_path = '/content/personal-doctor-llama-3-8b'\n",
        "destination_path = '/content/drive/MyDrive/personal-doctor-llama-3-8b'\n",
        "\n",
        "shutil.copytree(source_path, destination_path, dirs_exist_ok=True)"
      ]
    }
  ],
  "metadata": {
    "accelerator": "GPU",
    "colab": {
      "gpuType": "A100",
      "machine_shape": "hm",
      "provenance": []
    },
    "kernelspec": {
      "display_name": "Python 3",
      "name": "python3"
    },
    "language_info": {
      "name": "python"
    },
    "widgets": {
      "application/vnd.jupyter.widget-state+json": {
        "294c120c04c64095bf4aae49376145b3": {
          "model_module": "@jupyter-widgets/base",
          "model_module_version": "1.2.0",
          "model_name": "LayoutModel",
          "state": {
            "_model_module": "@jupyter-widgets/base",
            "_model_module_version": "1.2.0",
            "_model_name": "LayoutModel",
            "_view_count": null,
            "_view_module": "@jupyter-widgets/base",
            "_view_module_version": "1.2.0",
            "_view_name": "LayoutView",
            "align_content": null,
            "align_items": null,
            "align_self": null,
            "border": null,
            "bottom": null,
            "display": null,
            "flex": null,
            "flex_flow": null,
            "grid_area": null,
            "grid_auto_columns": null,
            "grid_auto_flow": null,
            "grid_auto_rows": null,
            "grid_column": null,
            "grid_gap": null,
            "grid_row": null,
            "grid_template_areas": null,
            "grid_template_columns": null,
            "grid_template_rows": null,
            "height": null,
            "justify_content": null,
            "justify_items": null,
            "left": null,
            "margin": null,
            "max_height": null,
            "max_width": null,
            "min_height": null,
            "min_width": null,
            "object_fit": null,
            "object_position": null,
            "order": null,
            "overflow": null,
            "overflow_x": null,
            "overflow_y": null,
            "padding": null,
            "right": null,
            "top": null,
            "visibility": null,
            "width": null
          }
        },
        "93b4268efea2427b9b605b8a7b7d25c4": {
          "model_module": "@jupyter-widgets/controls",
          "model_module_version": "1.5.0",
          "model_name": "DescriptionStyleModel",
          "state": {
            "_model_module": "@jupyter-widgets/controls",
            "_model_module_version": "1.5.0",
            "_model_name": "DescriptionStyleModel",
            "_view_count": null,
            "_view_module": "@jupyter-widgets/base",
            "_view_module_version": "1.2.0",
            "_view_name": "StyleView",
            "description_width": ""
          }
        },
        "94f6ded3c5aa435591c1bfccff6b49d4": {
          "model_module": "@jupyter-widgets/controls",
          "model_module_version": "1.5.0",
          "model_name": "HBoxModel",
          "state": {
            "_dom_classes": [],
            "_model_module": "@jupyter-widgets/controls",
            "_model_module_version": "1.5.0",
            "_model_name": "HBoxModel",
            "_view_count": null,
            "_view_module": "@jupyter-widgets/controls",
            "_view_module_version": "1.5.0",
            "_view_name": "HBoxView",
            "box_style": "",
            "children": [
              "IPY_MODEL_b917bc645c054d1086c841057c3fcb00",
              "IPY_MODEL_d441319eece342bd9e9f2187a632bdb5",
              "IPY_MODEL_980ef7227dbf41c58beb56081aa244d8"
            ],
            "layout": "IPY_MODEL_294c120c04c64095bf4aae49376145b3"
          }
        },
        "980ef7227dbf41c58beb56081aa244d8": {
          "model_module": "@jupyter-widgets/controls",
          "model_module_version": "1.5.0",
          "model_name": "HTMLModel",
          "state": {
            "_dom_classes": [],
            "_model_module": "@jupyter-widgets/controls",
            "_model_module_version": "1.5.0",
            "_model_name": "HTMLModel",
            "_view_count": null,
            "_view_module": "@jupyter-widgets/controls",
            "_view_module_version": "1.5.0",
            "_view_name": "HTMLView",
            "description": "",
            "description_tooltip": null,
            "layout": "IPY_MODEL_b0fd8bf5a26f4642b7b35b94ea248b6f",
            "placeholder": "​",
            "style": "IPY_MODEL_93b4268efea2427b9b605b8a7b7d25c4",
            "value": " 4/4 [00:05&lt;00:00,  1.24s/it]"
          }
        },
        "b0fd8bf5a26f4642b7b35b94ea248b6f": {
          "model_module": "@jupyter-widgets/base",
          "model_module_version": "1.2.0",
          "model_name": "LayoutModel",
          "state": {
            "_model_module": "@jupyter-widgets/base",
            "_model_module_version": "1.2.0",
            "_model_name": "LayoutModel",
            "_view_count": null,
            "_view_module": "@jupyter-widgets/base",
            "_view_module_version": "1.2.0",
            "_view_name": "LayoutView",
            "align_content": null,
            "align_items": null,
            "align_self": null,
            "border": null,
            "bottom": null,
            "display": null,
            "flex": null,
            "flex_flow": null,
            "grid_area": null,
            "grid_auto_columns": null,
            "grid_auto_flow": null,
            "grid_auto_rows": null,
            "grid_column": null,
            "grid_gap": null,
            "grid_row": null,
            "grid_template_areas": null,
            "grid_template_columns": null,
            "grid_template_rows": null,
            "height": null,
            "justify_content": null,
            "justify_items": null,
            "left": null,
            "margin": null,
            "max_height": null,
            "max_width": null,
            "min_height": null,
            "min_width": null,
            "object_fit": null,
            "object_position": null,
            "order": null,
            "overflow": null,
            "overflow_x": null,
            "overflow_y": null,
            "padding": null,
            "right": null,
            "top": null,
            "visibility": null,
            "width": null
          }
        },
        "b82a0e82f01d4d50893d3eb42c61ac3f": {
          "model_module": "@jupyter-widgets/controls",
          "model_module_version": "1.5.0",
          "model_name": "ProgressStyleModel",
          "state": {
            "_model_module": "@jupyter-widgets/controls",
            "_model_module_version": "1.5.0",
            "_model_name": "ProgressStyleModel",
            "_view_count": null,
            "_view_module": "@jupyter-widgets/base",
            "_view_module_version": "1.2.0",
            "_view_name": "StyleView",
            "bar_color": null,
            "description_width": ""
          }
        },
        "b917bc645c054d1086c841057c3fcb00": {
          "model_module": "@jupyter-widgets/controls",
          "model_module_version": "1.5.0",
          "model_name": "HTMLModel",
          "state": {
            "_dom_classes": [],
            "_model_module": "@jupyter-widgets/controls",
            "_model_module_version": "1.5.0",
            "_model_name": "HTMLModel",
            "_view_count": null,
            "_view_module": "@jupyter-widgets/controls",
            "_view_module_version": "1.5.0",
            "_view_name": "HTMLView",
            "description": "",
            "description_tooltip": null,
            "layout": "IPY_MODEL_da0751f7f1164ae1bbd9901d61e532c5",
            "placeholder": "​",
            "style": "IPY_MODEL_db51ab2143874162808936fcba996275",
            "value": "Loading checkpoint shards: 100%"
          }
        },
        "d1261930a9ef4534b24374eebc0d872b": {
          "model_module": "@jupyter-widgets/base",
          "model_module_version": "1.2.0",
          "model_name": "LayoutModel",
          "state": {
            "_model_module": "@jupyter-widgets/base",
            "_model_module_version": "1.2.0",
            "_model_name": "LayoutModel",
            "_view_count": null,
            "_view_module": "@jupyter-widgets/base",
            "_view_module_version": "1.2.0",
            "_view_name": "LayoutView",
            "align_content": null,
            "align_items": null,
            "align_self": null,
            "border": null,
            "bottom": null,
            "display": null,
            "flex": null,
            "flex_flow": null,
            "grid_area": null,
            "grid_auto_columns": null,
            "grid_auto_flow": null,
            "grid_auto_rows": null,
            "grid_column": null,
            "grid_gap": null,
            "grid_row": null,
            "grid_template_areas": null,
            "grid_template_columns": null,
            "grid_template_rows": null,
            "height": null,
            "justify_content": null,
            "justify_items": null,
            "left": null,
            "margin": null,
            "max_height": null,
            "max_width": null,
            "min_height": null,
            "min_width": null,
            "object_fit": null,
            "object_position": null,
            "order": null,
            "overflow": null,
            "overflow_x": null,
            "overflow_y": null,
            "padding": null,
            "right": null,
            "top": null,
            "visibility": null,
            "width": null
          }
        },
        "d441319eece342bd9e9f2187a632bdb5": {
          "model_module": "@jupyter-widgets/controls",
          "model_module_version": "1.5.0",
          "model_name": "FloatProgressModel",
          "state": {
            "_dom_classes": [],
            "_model_module": "@jupyter-widgets/controls",
            "_model_module_version": "1.5.0",
            "_model_name": "FloatProgressModel",
            "_view_count": null,
            "_view_module": "@jupyter-widgets/controls",
            "_view_module_version": "1.5.0",
            "_view_name": "ProgressView",
            "bar_style": "success",
            "description": "",
            "description_tooltip": null,
            "layout": "IPY_MODEL_d1261930a9ef4534b24374eebc0d872b",
            "max": 4,
            "min": 0,
            "orientation": "horizontal",
            "style": "IPY_MODEL_b82a0e82f01d4d50893d3eb42c61ac3f",
            "value": 4
          }
        },
        "da0751f7f1164ae1bbd9901d61e532c5": {
          "model_module": "@jupyter-widgets/base",
          "model_module_version": "1.2.0",
          "model_name": "LayoutModel",
          "state": {
            "_model_module": "@jupyter-widgets/base",
            "_model_module_version": "1.2.0",
            "_model_name": "LayoutModel",
            "_view_count": null,
            "_view_module": "@jupyter-widgets/base",
            "_view_module_version": "1.2.0",
            "_view_name": "LayoutView",
            "align_content": null,
            "align_items": null,
            "align_self": null,
            "border": null,
            "bottom": null,
            "display": null,
            "flex": null,
            "flex_flow": null,
            "grid_area": null,
            "grid_auto_columns": null,
            "grid_auto_flow": null,
            "grid_auto_rows": null,
            "grid_column": null,
            "grid_gap": null,
            "grid_row": null,
            "grid_template_areas": null,
            "grid_template_columns": null,
            "grid_template_rows": null,
            "height": null,
            "justify_content": null,
            "justify_items": null,
            "left": null,
            "margin": null,
            "max_height": null,
            "max_width": null,
            "min_height": null,
            "min_width": null,
            "object_fit": null,
            "object_position": null,
            "order": null,
            "overflow": null,
            "overflow_x": null,
            "overflow_y": null,
            "padding": null,
            "right": null,
            "top": null,
            "visibility": null,
            "width": null
          }
        },
        "db51ab2143874162808936fcba996275": {
          "model_module": "@jupyter-widgets/controls",
          "model_module_version": "1.5.0",
          "model_name": "DescriptionStyleModel",
          "state": {
            "_model_module": "@jupyter-widgets/controls",
            "_model_module_version": "1.5.0",
            "_model_name": "DescriptionStyleModel",
            "_view_count": null,
            "_view_module": "@jupyter-widgets/base",
            "_view_module_version": "1.2.0",
            "_view_name": "StyleView",
            "description_width": ""
          }
        }
      }
    }
  },
  "nbformat": 4,
  "nbformat_minor": 0
}
